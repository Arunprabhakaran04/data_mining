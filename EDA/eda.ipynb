{
 "cells": [
  {
   "cell_type": "code",
   "execution_count": 1,
   "metadata": {},
   "outputs": [],
   "source": [
    "import pandas as pd\n",
    "import numpy as np"
   ]
  },
  {
   "cell_type": "code",
   "execution_count": 2,
   "metadata": {},
   "outputs": [
    {
     "data": {
      "application/vnd.microsoft.datawrangler.viewer.v0+json": {
       "columns": [
        {
         "name": "index",
         "rawType": "int64",
         "type": "integer"
        },
        {
         "name": "order_id",
         "rawType": "object",
         "type": "string"
        },
        {
         "name": "customer_id",
         "rawType": "object",
         "type": "string"
        },
        {
         "name": "order_date",
         "rawType": "object",
         "type": "string"
        },
        {
         "name": "product_id",
         "rawType": "object",
         "type": "string"
        },
        {
         "name": "product_category",
         "rawType": "object",
         "type": "unknown"
        },
        {
         "name": "quantity",
         "rawType": "float64",
         "type": "float"
        },
        {
         "name": "price_per_unit",
         "rawType": "float64",
         "type": "float"
        },
        {
         "name": "total_amount",
         "rawType": "float64",
         "type": "float"
        }
       ],
       "conversionMethod": "pd.DataFrame",
       "ref": "51a89d65-6573-4ebb-b407-05f228e83483",
       "rows": [
        [
         "0",
         "O00001",
         "C0118",
         "2022-02-27",
         "P112",
         "Fashion",
         "19.0",
         "138.52",
         "2631.88"
        ],
        [
         "1",
         "O00002",
         "C0086",
         "2022-03-25",
         "P118",
         "Home",
         "10.0",
         "1394.25",
         "13942.5"
        ],
        [
         "2",
         "O00003",
         "C0088",
         "2022-09-11",
         "P097",
         "Home",
         "19.0",
         "1389.36",
         "26397.84"
        ],
        [
         "3",
         "O00004",
         "C0132",
         "2022-04-13",
         "P010",
         null,
         null,
         null,
         "3641.94"
        ],
        [
         "4",
         "O00005",
         "C0157",
         "2023-03-28",
         "P046",
         "Toys",
         "4.0",
         "955.78",
         "3823.12"
        ]
       ],
       "shape": {
        "columns": 8,
        "rows": 5
       }
      },
      "text/html": [
       "<div>\n",
       "<style scoped>\n",
       "    .dataframe tbody tr th:only-of-type {\n",
       "        vertical-align: middle;\n",
       "    }\n",
       "\n",
       "    .dataframe tbody tr th {\n",
       "        vertical-align: top;\n",
       "    }\n",
       "\n",
       "    .dataframe thead th {\n",
       "        text-align: right;\n",
       "    }\n",
       "</style>\n",
       "<table border=\"1\" class=\"dataframe\">\n",
       "  <thead>\n",
       "    <tr style=\"text-align: right;\">\n",
       "      <th></th>\n",
       "      <th>order_id</th>\n",
       "      <th>customer_id</th>\n",
       "      <th>order_date</th>\n",
       "      <th>product_id</th>\n",
       "      <th>product_category</th>\n",
       "      <th>quantity</th>\n",
       "      <th>price_per_unit</th>\n",
       "      <th>total_amount</th>\n",
       "    </tr>\n",
       "  </thead>\n",
       "  <tbody>\n",
       "    <tr>\n",
       "      <th>0</th>\n",
       "      <td>O00001</td>\n",
       "      <td>C0118</td>\n",
       "      <td>2022-02-27</td>\n",
       "      <td>P112</td>\n",
       "      <td>Fashion</td>\n",
       "      <td>19.0</td>\n",
       "      <td>138.52</td>\n",
       "      <td>2631.88</td>\n",
       "    </tr>\n",
       "    <tr>\n",
       "      <th>1</th>\n",
       "      <td>O00002</td>\n",
       "      <td>C0086</td>\n",
       "      <td>2022-03-25</td>\n",
       "      <td>P118</td>\n",
       "      <td>Home</td>\n",
       "      <td>10.0</td>\n",
       "      <td>1394.25</td>\n",
       "      <td>13942.50</td>\n",
       "    </tr>\n",
       "    <tr>\n",
       "      <th>2</th>\n",
       "      <td>O00003</td>\n",
       "      <td>C0088</td>\n",
       "      <td>2022-09-11</td>\n",
       "      <td>P097</td>\n",
       "      <td>Home</td>\n",
       "      <td>19.0</td>\n",
       "      <td>1389.36</td>\n",
       "      <td>26397.84</td>\n",
       "    </tr>\n",
       "    <tr>\n",
       "      <th>3</th>\n",
       "      <td>O00004</td>\n",
       "      <td>C0132</td>\n",
       "      <td>2022-04-13</td>\n",
       "      <td>P010</td>\n",
       "      <td>NaN</td>\n",
       "      <td>NaN</td>\n",
       "      <td>NaN</td>\n",
       "      <td>3641.94</td>\n",
       "    </tr>\n",
       "    <tr>\n",
       "      <th>4</th>\n",
       "      <td>O00005</td>\n",
       "      <td>C0157</td>\n",
       "      <td>2023-03-28</td>\n",
       "      <td>P046</td>\n",
       "      <td>Toys</td>\n",
       "      <td>4.0</td>\n",
       "      <td>955.78</td>\n",
       "      <td>3823.12</td>\n",
       "    </tr>\n",
       "  </tbody>\n",
       "</table>\n",
       "</div>"
      ],
      "text/plain": [
       "  order_id customer_id  order_date product_id product_category  quantity  \\\n",
       "0   O00001       C0118  2022-02-27       P112          Fashion      19.0   \n",
       "1   O00002       C0086  2022-03-25       P118             Home      10.0   \n",
       "2   O00003       C0088  2022-09-11       P097             Home      19.0   \n",
       "3   O00004       C0132  2022-04-13       P010              NaN       NaN   \n",
       "4   O00005       C0157  2023-03-28       P046             Toys       4.0   \n",
       "\n",
       "   price_per_unit  total_amount  \n",
       "0          138.52       2631.88  \n",
       "1         1394.25      13942.50  \n",
       "2         1389.36      26397.84  \n",
       "3             NaN       3641.94  \n",
       "4          955.78       3823.12  "
      ]
     },
     "execution_count": 2,
     "metadata": {},
     "output_type": "execute_result"
    }
   ],
   "source": [
    "df = pd.read_csv(\"EDA_order_dataset.csv\")\n",
    "df.head()"
   ]
  },
  {
   "cell_type": "code",
   "execution_count": 3,
   "metadata": {},
   "outputs": [
    {
     "name": "stdout",
     "output_type": "stream",
     "text": [
      "<class 'pandas.core.frame.DataFrame'>\n",
      "RangeIndex: 10000 entries, 0 to 9999\n",
      "Data columns (total 8 columns):\n",
      " #   Column            Non-Null Count  Dtype  \n",
      "---  ------            --------------  -----  \n",
      " 0   order_id          10000 non-null  object \n",
      " 1   customer_id       10000 non-null  object \n",
      " 2   order_date        10000 non-null  object \n",
      " 3   product_id        10000 non-null  object \n",
      " 4   product_category  9500 non-null   object \n",
      " 5   quantity          9500 non-null   float64\n",
      " 6   price_per_unit    9500 non-null   float64\n",
      " 7   total_amount      10000 non-null  float64\n",
      "dtypes: float64(3), object(5)\n",
      "memory usage: 625.1+ KB\n"
     ]
    }
   ],
   "source": [
    "df.info()"
   ]
  },
  {
   "cell_type": "code",
   "execution_count": 4,
   "metadata": {},
   "outputs": [
    {
     "data": {
      "text/plain": [
       "(10000, 8)"
      ]
     },
     "execution_count": 4,
     "metadata": {},
     "output_type": "execute_result"
    }
   ],
   "source": [
    "df.shape"
   ]
  },
  {
   "cell_type": "code",
   "execution_count": 5,
   "metadata": {},
   "outputs": [
    {
     "data": {
      "text/plain": [
       "order_id              0\n",
       "customer_id           0\n",
       "order_date            0\n",
       "product_id            0\n",
       "product_category    500\n",
       "quantity            500\n",
       "price_per_unit      500\n",
       "total_amount          0\n",
       "dtype: int64"
      ]
     },
     "execution_count": 5,
     "metadata": {},
     "output_type": "execute_result"
    }
   ],
   "source": [
    "df.isna().sum()"
   ]
  },
  {
   "cell_type": "code",
   "execution_count": 16,
   "metadata": {},
   "outputs": [
    {
     "data": {
      "text/plain": [
       "np.float64(7873.814211)"
      ]
     },
     "execution_count": 16,
     "metadata": {},
     "output_type": "execute_result"
    }
   ],
   "source": [
    "mean_total = df[\"total_amount\"].mean()\n",
    "mean_total"
   ]
  },
  {
   "cell_type": "code",
   "execution_count": 22,
   "metadata": {},
   "outputs": [
    {
     "data": {
      "text/plain": [
       "order_id              0\n",
       "customer_id           0\n",
       "order_date            0\n",
       "product_id            0\n",
       "product_category    500\n",
       "quantity            500\n",
       "price_per_unit      500\n",
       "total_amount          0\n",
       "dtype: int64"
      ]
     },
     "execution_count": 22,
     "metadata": {},
     "output_type": "execute_result"
    }
   ],
   "source": [
    "df.isna().sum()"
   ]
  },
  {
   "cell_type": "code",
   "execution_count": 24,
   "metadata": {},
   "outputs": [
    {
     "name": "stderr",
     "output_type": "stream",
     "text": [
      "C:\\Users\\ARUN\\AppData\\Local\\Temp\\ipykernel_1776\\506939939.py:2: FutureWarning: A value is trying to be set on a copy of a DataFrame or Series through chained assignment using an inplace method.\n",
      "The behavior will change in pandas 3.0. This inplace method will never work because the intermediate object on which we are setting values always behaves as a copy.\n",
      "\n",
      "For example, when doing 'df[col].method(value, inplace=True)', try using 'df.method({col: value}, inplace=True)' or df[col] = df[col].method(value) instead, to perform the operation inplace on the original object.\n",
      "\n",
      "\n",
      "  df[\"quantity\"].fillna(df[\"quantity\"].mean(), inplace = True)\n"
     ]
    }
   ],
   "source": [
    "df_seperate_mean = df\n",
    "df[\"quantity\"].fillna(df[\"quantity\"].mean(), inplace = True)"
   ]
  },
  {
   "cell_type": "code",
   "execution_count": 18,
   "metadata": {},
   "outputs": [
    {
     "data": {
      "application/vnd.microsoft.datawrangler.viewer.v0+json": {
       "columns": [
        {
         "name": "index",
         "rawType": "int64",
         "type": "integer"
        },
        {
         "name": "order_id",
         "rawType": "object",
         "type": "string"
        },
        {
         "name": "customer_id",
         "rawType": "object",
         "type": "string"
        },
        {
         "name": "order_date",
         "rawType": "object",
         "type": "string"
        },
        {
         "name": "product_id",
         "rawType": "object",
         "type": "string"
        },
        {
         "name": "product_category",
         "rawType": "object",
         "type": "unknown"
        },
        {
         "name": "quantity",
         "rawType": "float64",
         "type": "float"
        },
        {
         "name": "price_per_unit",
         "rawType": "float64",
         "type": "float"
        },
        {
         "name": "total_amount",
         "rawType": "float64",
         "type": "float"
        }
       ],
       "conversionMethod": "pd.DataFrame",
       "ref": "2f53d231-ce77-4daf-be1d-eaa81f9c86f1",
       "rows": [
        [
         "0",
         "O00001",
         "C0118",
         "2022-02-27",
         "P112",
         "Fashion",
         "19.0",
         "138.52",
         "2631.88"
        ],
        [
         "1",
         "O00002",
         "C0086",
         "2022-03-25",
         "P118",
         "Home",
         "10.0",
         "1394.25",
         "13942.5"
        ],
        [
         "2",
         "O00003",
         "C0088",
         "2022-09-11",
         "P097",
         "Home",
         "19.0",
         "1389.36",
         "26397.84"
        ],
        [
         "3",
         "O00004",
         "C0132",
         "2022-04-13",
         "P010",
         "7873.814211",
         "7873.814211",
         "7873.814211",
         "3641.94"
        ],
        [
         "4",
         "O00005",
         "C0157",
         "2023-03-28",
         "P046",
         "Toys",
         "4.0",
         "955.78",
         "3823.12"
        ]
       ],
       "shape": {
        "columns": 8,
        "rows": 5
       }
      },
      "text/html": [
       "<div>\n",
       "<style scoped>\n",
       "    .dataframe tbody tr th:only-of-type {\n",
       "        vertical-align: middle;\n",
       "    }\n",
       "\n",
       "    .dataframe tbody tr th {\n",
       "        vertical-align: top;\n",
       "    }\n",
       "\n",
       "    .dataframe thead th {\n",
       "        text-align: right;\n",
       "    }\n",
       "</style>\n",
       "<table border=\"1\" class=\"dataframe\">\n",
       "  <thead>\n",
       "    <tr style=\"text-align: right;\">\n",
       "      <th></th>\n",
       "      <th>order_id</th>\n",
       "      <th>customer_id</th>\n",
       "      <th>order_date</th>\n",
       "      <th>product_id</th>\n",
       "      <th>product_category</th>\n",
       "      <th>quantity</th>\n",
       "      <th>price_per_unit</th>\n",
       "      <th>total_amount</th>\n",
       "    </tr>\n",
       "  </thead>\n",
       "  <tbody>\n",
       "    <tr>\n",
       "      <th>0</th>\n",
       "      <td>O00001</td>\n",
       "      <td>C0118</td>\n",
       "      <td>2022-02-27</td>\n",
       "      <td>P112</td>\n",
       "      <td>Fashion</td>\n",
       "      <td>19.000000</td>\n",
       "      <td>138.520000</td>\n",
       "      <td>2631.88</td>\n",
       "    </tr>\n",
       "    <tr>\n",
       "      <th>1</th>\n",
       "      <td>O00002</td>\n",
       "      <td>C0086</td>\n",
       "      <td>2022-03-25</td>\n",
       "      <td>P118</td>\n",
       "      <td>Home</td>\n",
       "      <td>10.000000</td>\n",
       "      <td>1394.250000</td>\n",
       "      <td>13942.50</td>\n",
       "    </tr>\n",
       "    <tr>\n",
       "      <th>2</th>\n",
       "      <td>O00003</td>\n",
       "      <td>C0088</td>\n",
       "      <td>2022-09-11</td>\n",
       "      <td>P097</td>\n",
       "      <td>Home</td>\n",
       "      <td>19.000000</td>\n",
       "      <td>1389.360000</td>\n",
       "      <td>26397.84</td>\n",
       "    </tr>\n",
       "    <tr>\n",
       "      <th>3</th>\n",
       "      <td>O00004</td>\n",
       "      <td>C0132</td>\n",
       "      <td>2022-04-13</td>\n",
       "      <td>P010</td>\n",
       "      <td>7873.814211</td>\n",
       "      <td>7873.814211</td>\n",
       "      <td>7873.814211</td>\n",
       "      <td>3641.94</td>\n",
       "    </tr>\n",
       "    <tr>\n",
       "      <th>4</th>\n",
       "      <td>O00005</td>\n",
       "      <td>C0157</td>\n",
       "      <td>2023-03-28</td>\n",
       "      <td>P046</td>\n",
       "      <td>Toys</td>\n",
       "      <td>4.000000</td>\n",
       "      <td>955.780000</td>\n",
       "      <td>3823.12</td>\n",
       "    </tr>\n",
       "  </tbody>\n",
       "</table>\n",
       "</div>"
      ],
      "text/plain": [
       "  order_id customer_id  order_date product_id product_category     quantity  \\\n",
       "0   O00001       C0118  2022-02-27       P112          Fashion    19.000000   \n",
       "1   O00002       C0086  2022-03-25       P118             Home    10.000000   \n",
       "2   O00003       C0088  2022-09-11       P097             Home    19.000000   \n",
       "3   O00004       C0132  2022-04-13       P010      7873.814211  7873.814211   \n",
       "4   O00005       C0157  2023-03-28       P046             Toys     4.000000   \n",
       "\n",
       "   price_per_unit  total_amount  \n",
       "0      138.520000       2631.88  \n",
       "1     1394.250000      13942.50  \n",
       "2     1389.360000      26397.84  \n",
       "3     7873.814211       3641.94  \n",
       "4      955.780000       3823.12  "
      ]
     },
     "execution_count": 18,
     "metadata": {},
     "output_type": "execute_result"
    }
   ],
   "source": [
    "df_mean = df.fillna(mean_total)\n",
    "df_mean.head()"
   ]
  },
  {
   "cell_type": "code",
   "execution_count": 6,
   "metadata": {},
   "outputs": [],
   "source": [
    "df_filtered = df.dropna()"
   ]
  },
  {
   "cell_type": "code",
   "execution_count": 7,
   "metadata": {},
   "outputs": [
    {
     "data": {
      "application/vnd.microsoft.datawrangler.viewer.v0+json": {
       "columns": [
        {
         "name": "index",
         "rawType": "int64",
         "type": "integer"
        },
        {
         "name": "order_id",
         "rawType": "object",
         "type": "string"
        },
        {
         "name": "customer_id",
         "rawType": "object",
         "type": "string"
        },
        {
         "name": "order_date",
         "rawType": "object",
         "type": "string"
        },
        {
         "name": "product_id",
         "rawType": "object",
         "type": "string"
        },
        {
         "name": "product_category",
         "rawType": "object",
         "type": "string"
        },
        {
         "name": "quantity",
         "rawType": "float64",
         "type": "float"
        },
        {
         "name": "price_per_unit",
         "rawType": "float64",
         "type": "float"
        },
        {
         "name": "total_amount",
         "rawType": "float64",
         "type": "float"
        }
       ],
       "conversionMethod": "pd.DataFrame",
       "ref": "794c4162-8bb9-477a-9d04-32590fe62405",
       "rows": [
        [
         "0",
         "O00001",
         "C0118",
         "2022-02-27",
         "P112",
         "Fashion",
         "19.0",
         "138.52",
         "2631.88"
        ],
        [
         "1",
         "O00002",
         "C0086",
         "2022-03-25",
         "P118",
         "Home",
         "10.0",
         "1394.25",
         "13942.5"
        ],
        [
         "2",
         "O00003",
         "C0088",
         "2022-09-11",
         "P097",
         "Home",
         "19.0",
         "1389.36",
         "26397.84"
        ],
        [
         "4",
         "O00005",
         "C0157",
         "2023-03-28",
         "P046",
         "Toys",
         "4.0",
         "955.78",
         "3823.12"
        ],
        [
         "5",
         "O00006",
         "C0193",
         "2022-01-16",
         "P002",
         "Fashion",
         "13.0",
         "447.59",
         "5818.67"
        ]
       ],
       "shape": {
        "columns": 8,
        "rows": 5
       }
      },
      "text/html": [
       "<div>\n",
       "<style scoped>\n",
       "    .dataframe tbody tr th:only-of-type {\n",
       "        vertical-align: middle;\n",
       "    }\n",
       "\n",
       "    .dataframe tbody tr th {\n",
       "        vertical-align: top;\n",
       "    }\n",
       "\n",
       "    .dataframe thead th {\n",
       "        text-align: right;\n",
       "    }\n",
       "</style>\n",
       "<table border=\"1\" class=\"dataframe\">\n",
       "  <thead>\n",
       "    <tr style=\"text-align: right;\">\n",
       "      <th></th>\n",
       "      <th>order_id</th>\n",
       "      <th>customer_id</th>\n",
       "      <th>order_date</th>\n",
       "      <th>product_id</th>\n",
       "      <th>product_category</th>\n",
       "      <th>quantity</th>\n",
       "      <th>price_per_unit</th>\n",
       "      <th>total_amount</th>\n",
       "    </tr>\n",
       "  </thead>\n",
       "  <tbody>\n",
       "    <tr>\n",
       "      <th>0</th>\n",
       "      <td>O00001</td>\n",
       "      <td>C0118</td>\n",
       "      <td>2022-02-27</td>\n",
       "      <td>P112</td>\n",
       "      <td>Fashion</td>\n",
       "      <td>19.0</td>\n",
       "      <td>138.52</td>\n",
       "      <td>2631.88</td>\n",
       "    </tr>\n",
       "    <tr>\n",
       "      <th>1</th>\n",
       "      <td>O00002</td>\n",
       "      <td>C0086</td>\n",
       "      <td>2022-03-25</td>\n",
       "      <td>P118</td>\n",
       "      <td>Home</td>\n",
       "      <td>10.0</td>\n",
       "      <td>1394.25</td>\n",
       "      <td>13942.50</td>\n",
       "    </tr>\n",
       "    <tr>\n",
       "      <th>2</th>\n",
       "      <td>O00003</td>\n",
       "      <td>C0088</td>\n",
       "      <td>2022-09-11</td>\n",
       "      <td>P097</td>\n",
       "      <td>Home</td>\n",
       "      <td>19.0</td>\n",
       "      <td>1389.36</td>\n",
       "      <td>26397.84</td>\n",
       "    </tr>\n",
       "    <tr>\n",
       "      <th>4</th>\n",
       "      <td>O00005</td>\n",
       "      <td>C0157</td>\n",
       "      <td>2023-03-28</td>\n",
       "      <td>P046</td>\n",
       "      <td>Toys</td>\n",
       "      <td>4.0</td>\n",
       "      <td>955.78</td>\n",
       "      <td>3823.12</td>\n",
       "    </tr>\n",
       "    <tr>\n",
       "      <th>5</th>\n",
       "      <td>O00006</td>\n",
       "      <td>C0193</td>\n",
       "      <td>2022-01-16</td>\n",
       "      <td>P002</td>\n",
       "      <td>Fashion</td>\n",
       "      <td>13.0</td>\n",
       "      <td>447.59</td>\n",
       "      <td>5818.67</td>\n",
       "    </tr>\n",
       "  </tbody>\n",
       "</table>\n",
       "</div>"
      ],
      "text/plain": [
       "  order_id customer_id  order_date product_id product_category  quantity  \\\n",
       "0   O00001       C0118  2022-02-27       P112          Fashion      19.0   \n",
       "1   O00002       C0086  2022-03-25       P118             Home      10.0   \n",
       "2   O00003       C0088  2022-09-11       P097             Home      19.0   \n",
       "4   O00005       C0157  2023-03-28       P046             Toys       4.0   \n",
       "5   O00006       C0193  2022-01-16       P002          Fashion      13.0   \n",
       "\n",
       "   price_per_unit  total_amount  \n",
       "0          138.52       2631.88  \n",
       "1         1394.25      13942.50  \n",
       "2         1389.36      26397.84  \n",
       "4          955.78       3823.12  \n",
       "5          447.59       5818.67  "
      ]
     },
     "execution_count": 7,
     "metadata": {},
     "output_type": "execute_result"
    }
   ],
   "source": [
    "df_filtered.head()"
   ]
  },
  {
   "cell_type": "code",
   "execution_count": 8,
   "metadata": {},
   "outputs": [
    {
     "name": "stdout",
     "output_type": "stream",
     "text": [
      "<class 'pandas.core.frame.DataFrame'>\n",
      "Index: 9500 entries, 0 to 9999\n",
      "Data columns (total 8 columns):\n",
      " #   Column            Non-Null Count  Dtype  \n",
      "---  ------            --------------  -----  \n",
      " 0   order_id          9500 non-null   object \n",
      " 1   customer_id       9500 non-null   object \n",
      " 2   order_date        9500 non-null   object \n",
      " 3   product_id        9500 non-null   object \n",
      " 4   product_category  9500 non-null   object \n",
      " 5   quantity          9500 non-null   float64\n",
      " 6   price_per_unit    9500 non-null   float64\n",
      " 7   total_amount      9500 non-null   float64\n",
      "dtypes: float64(3), object(5)\n",
      "memory usage: 668.0+ KB\n"
     ]
    }
   ],
   "source": [
    "df_filtered.info()"
   ]
  },
  {
   "cell_type": "code",
   "execution_count": 12,
   "metadata": {},
   "outputs": [
    {
     "name": "stderr",
     "output_type": "stream",
     "text": [
      "C:\\Users\\ARUN\\AppData\\Local\\Temp\\ipykernel_1776\\780148883.py:1: SettingWithCopyWarning: \n",
      "A value is trying to be set on a copy of a slice from a DataFrame.\n",
      "Try using .loc[row_indexer,col_indexer] = value instead\n",
      "\n",
      "See the caveats in the documentation: https://pandas.pydata.org/pandas-docs/stable/user_guide/indexing.html#returning-a-view-versus-a-copy\n",
      "  df_filtered[\"order_date\"] = pd.to_datetime(df_filtered[\"order_date\"])\n"
     ]
    },
    {
     "data": {
      "application/vnd.microsoft.datawrangler.viewer.v0+json": {
       "columns": [
        {
         "name": "index",
         "rawType": "int64",
         "type": "integer"
        },
        {
         "name": "order_id",
         "rawType": "object",
         "type": "string"
        },
        {
         "name": "customer_id",
         "rawType": "object",
         "type": "string"
        },
        {
         "name": "order_date",
         "rawType": "datetime64[ns]",
         "type": "datetime"
        },
        {
         "name": "product_id",
         "rawType": "object",
         "type": "string"
        },
        {
         "name": "product_category",
         "rawType": "object",
         "type": "string"
        },
        {
         "name": "quantity",
         "rawType": "float64",
         "type": "float"
        },
        {
         "name": "price_per_unit",
         "rawType": "float64",
         "type": "float"
        },
        {
         "name": "total_amount",
         "rawType": "float64",
         "type": "float"
        }
       ],
       "conversionMethod": "pd.DataFrame",
       "ref": "a41915fa-e30b-4ff5-a7d6-931f9eabbf4e",
       "rows": [
        [
         "0",
         "O00001",
         "C0118",
         "2022-02-27 00:00:00",
         "P112",
         "Fashion",
         "19.0",
         "138.52",
         "2631.88"
        ],
        [
         "1",
         "O00002",
         "C0086",
         "2022-03-25 00:00:00",
         "P118",
         "Home",
         "10.0",
         "1394.25",
         "13942.5"
        ],
        [
         "2",
         "O00003",
         "C0088",
         "2022-09-11 00:00:00",
         "P097",
         "Home",
         "19.0",
         "1389.36",
         "26397.84"
        ],
        [
         "4",
         "O00005",
         "C0157",
         "2023-03-28 00:00:00",
         "P046",
         "Toys",
         "4.0",
         "955.78",
         "3823.12"
        ],
        [
         "5",
         "O00006",
         "C0193",
         "2022-01-16 00:00:00",
         "P002",
         "Fashion",
         "13.0",
         "447.59",
         "5818.67"
        ]
       ],
       "shape": {
        "columns": 8,
        "rows": 5
       }
      },
      "text/html": [
       "<div>\n",
       "<style scoped>\n",
       "    .dataframe tbody tr th:only-of-type {\n",
       "        vertical-align: middle;\n",
       "    }\n",
       "\n",
       "    .dataframe tbody tr th {\n",
       "        vertical-align: top;\n",
       "    }\n",
       "\n",
       "    .dataframe thead th {\n",
       "        text-align: right;\n",
       "    }\n",
       "</style>\n",
       "<table border=\"1\" class=\"dataframe\">\n",
       "  <thead>\n",
       "    <tr style=\"text-align: right;\">\n",
       "      <th></th>\n",
       "      <th>order_id</th>\n",
       "      <th>customer_id</th>\n",
       "      <th>order_date</th>\n",
       "      <th>product_id</th>\n",
       "      <th>product_category</th>\n",
       "      <th>quantity</th>\n",
       "      <th>price_per_unit</th>\n",
       "      <th>total_amount</th>\n",
       "    </tr>\n",
       "  </thead>\n",
       "  <tbody>\n",
       "    <tr>\n",
       "      <th>0</th>\n",
       "      <td>O00001</td>\n",
       "      <td>C0118</td>\n",
       "      <td>2022-02-27</td>\n",
       "      <td>P112</td>\n",
       "      <td>Fashion</td>\n",
       "      <td>19.0</td>\n",
       "      <td>138.52</td>\n",
       "      <td>2631.88</td>\n",
       "    </tr>\n",
       "    <tr>\n",
       "      <th>1</th>\n",
       "      <td>O00002</td>\n",
       "      <td>C0086</td>\n",
       "      <td>2022-03-25</td>\n",
       "      <td>P118</td>\n",
       "      <td>Home</td>\n",
       "      <td>10.0</td>\n",
       "      <td>1394.25</td>\n",
       "      <td>13942.50</td>\n",
       "    </tr>\n",
       "    <tr>\n",
       "      <th>2</th>\n",
       "      <td>O00003</td>\n",
       "      <td>C0088</td>\n",
       "      <td>2022-09-11</td>\n",
       "      <td>P097</td>\n",
       "      <td>Home</td>\n",
       "      <td>19.0</td>\n",
       "      <td>1389.36</td>\n",
       "      <td>26397.84</td>\n",
       "    </tr>\n",
       "    <tr>\n",
       "      <th>4</th>\n",
       "      <td>O00005</td>\n",
       "      <td>C0157</td>\n",
       "      <td>2023-03-28</td>\n",
       "      <td>P046</td>\n",
       "      <td>Toys</td>\n",
       "      <td>4.0</td>\n",
       "      <td>955.78</td>\n",
       "      <td>3823.12</td>\n",
       "    </tr>\n",
       "    <tr>\n",
       "      <th>5</th>\n",
       "      <td>O00006</td>\n",
       "      <td>C0193</td>\n",
       "      <td>2022-01-16</td>\n",
       "      <td>P002</td>\n",
       "      <td>Fashion</td>\n",
       "      <td>13.0</td>\n",
       "      <td>447.59</td>\n",
       "      <td>5818.67</td>\n",
       "    </tr>\n",
       "  </tbody>\n",
       "</table>\n",
       "</div>"
      ],
      "text/plain": [
       "  order_id customer_id order_date product_id product_category  quantity  \\\n",
       "0   O00001       C0118 2022-02-27       P112          Fashion      19.0   \n",
       "1   O00002       C0086 2022-03-25       P118             Home      10.0   \n",
       "2   O00003       C0088 2022-09-11       P097             Home      19.0   \n",
       "4   O00005       C0157 2023-03-28       P046             Toys       4.0   \n",
       "5   O00006       C0193 2022-01-16       P002          Fashion      13.0   \n",
       "\n",
       "   price_per_unit  total_amount  \n",
       "0          138.52       2631.88  \n",
       "1         1394.25      13942.50  \n",
       "2         1389.36      26397.84  \n",
       "4          955.78       3823.12  \n",
       "5          447.59       5818.67  "
      ]
     },
     "execution_count": 12,
     "metadata": {},
     "output_type": "execute_result"
    }
   ],
   "source": [
    "df_filtered[\"order_date\"] = pd.to_datetime(df_filtered[\"order_date\"])\n",
    "df_filtered.head()\n"
   ]
  },
  {
   "cell_type": "code",
   "execution_count": 13,
   "metadata": {},
   "outputs": [
    {
     "name": "stdout",
     "output_type": "stream",
     "text": [
      "<class 'pandas.core.frame.DataFrame'>\n",
      "Index: 9500 entries, 0 to 9999\n",
      "Data columns (total 8 columns):\n",
      " #   Column            Non-Null Count  Dtype         \n",
      "---  ------            --------------  -----         \n",
      " 0   order_id          9500 non-null   object        \n",
      " 1   customer_id       9500 non-null   object        \n",
      " 2   order_date        9500 non-null   datetime64[ns]\n",
      " 3   product_id        9500 non-null   object        \n",
      " 4   product_category  9500 non-null   object        \n",
      " 5   quantity          9500 non-null   float64       \n",
      " 6   price_per_unit    9500 non-null   float64       \n",
      " 7   total_amount      9500 non-null   float64       \n",
      "dtypes: datetime64[ns](1), float64(3), object(4)\n",
      "memory usage: 668.0+ KB\n"
     ]
    }
   ],
   "source": [
    "df_filtered.info()"
   ]
  },
  {
   "cell_type": "code",
   "execution_count": 26,
   "metadata": {},
   "outputs": [
    {
     "data": {
      "application/vnd.microsoft.datawrangler.viewer.v0+json": {
       "columns": [
        {
         "name": "index",
         "rawType": "object",
         "type": "string"
        },
        {
         "name": "order_date",
         "rawType": "object",
         "type": "unknown"
        },
        {
         "name": "quantity",
         "rawType": "float64",
         "type": "float"
        },
        {
         "name": "price_per_unit",
         "rawType": "float64",
         "type": "float"
        },
        {
         "name": "total_amount",
         "rawType": "float64",
         "type": "float"
        }
       ],
       "conversionMethod": "pd.DataFrame",
       "ref": "5a81ee90-52a3-4985-8120-2ae22eddd55b",
       "rows": [
        [
         "count",
         "9500",
         "9500.0",
         "9500.0",
         "9500.0"
        ],
        [
         "mean",
         "2023-01-01 04:25:52.168421120",
         "10.444",
         "755.6576610526316",
         "7874.737069473684"
        ],
        [
         "min",
         "2022-01-01 00:00:00",
         "1.0",
         "10.04",
         "14.25"
        ],
        [
         "25%",
         "2022-06-29 00:00:00",
         "5.0",
         "382.0375",
         "2333.505"
        ],
        [
         "50%",
         "2022-12-30 00:00:00",
         "10.0",
         "751.05",
         "5909.18"
        ],
        [
         "75%",
         "2023-07-05 00:00:00",
         "15.0",
         "1129.4225",
         "11812.497500000001"
        ],
        [
         "max",
         "2023-12-31 00:00:00",
         "20.0",
         "1499.95",
         "29992.0"
        ],
        [
         "std",
         null,
         "5.815179992854902",
         "432.0399254708113",
         "6786.743313487098"
        ]
       ],
       "shape": {
        "columns": 4,
        "rows": 8
       }
      },
      "text/html": [
       "<div>\n",
       "<style scoped>\n",
       "    .dataframe tbody tr th:only-of-type {\n",
       "        vertical-align: middle;\n",
       "    }\n",
       "\n",
       "    .dataframe tbody tr th {\n",
       "        vertical-align: top;\n",
       "    }\n",
       "\n",
       "    .dataframe thead th {\n",
       "        text-align: right;\n",
       "    }\n",
       "</style>\n",
       "<table border=\"1\" class=\"dataframe\">\n",
       "  <thead>\n",
       "    <tr style=\"text-align: right;\">\n",
       "      <th></th>\n",
       "      <th>order_date</th>\n",
       "      <th>quantity</th>\n",
       "      <th>price_per_unit</th>\n",
       "      <th>total_amount</th>\n",
       "    </tr>\n",
       "  </thead>\n",
       "  <tbody>\n",
       "    <tr>\n",
       "      <th>count</th>\n",
       "      <td>9500</td>\n",
       "      <td>9500.00000</td>\n",
       "      <td>9500.000000</td>\n",
       "      <td>9500.000000</td>\n",
       "    </tr>\n",
       "    <tr>\n",
       "      <th>mean</th>\n",
       "      <td>2023-01-01 04:25:52.168421120</td>\n",
       "      <td>10.44400</td>\n",
       "      <td>755.657661</td>\n",
       "      <td>7874.737069</td>\n",
       "    </tr>\n",
       "    <tr>\n",
       "      <th>min</th>\n",
       "      <td>2022-01-01 00:00:00</td>\n",
       "      <td>1.00000</td>\n",
       "      <td>10.040000</td>\n",
       "      <td>14.250000</td>\n",
       "    </tr>\n",
       "    <tr>\n",
       "      <th>25%</th>\n",
       "      <td>2022-06-29 00:00:00</td>\n",
       "      <td>5.00000</td>\n",
       "      <td>382.037500</td>\n",
       "      <td>2333.505000</td>\n",
       "    </tr>\n",
       "    <tr>\n",
       "      <th>50%</th>\n",
       "      <td>2022-12-30 00:00:00</td>\n",
       "      <td>10.00000</td>\n",
       "      <td>751.050000</td>\n",
       "      <td>5909.180000</td>\n",
       "    </tr>\n",
       "    <tr>\n",
       "      <th>75%</th>\n",
       "      <td>2023-07-05 00:00:00</td>\n",
       "      <td>15.00000</td>\n",
       "      <td>1129.422500</td>\n",
       "      <td>11812.497500</td>\n",
       "    </tr>\n",
       "    <tr>\n",
       "      <th>max</th>\n",
       "      <td>2023-12-31 00:00:00</td>\n",
       "      <td>20.00000</td>\n",
       "      <td>1499.950000</td>\n",
       "      <td>29992.000000</td>\n",
       "    </tr>\n",
       "    <tr>\n",
       "      <th>std</th>\n",
       "      <td>NaN</td>\n",
       "      <td>5.81518</td>\n",
       "      <td>432.039925</td>\n",
       "      <td>6786.743313</td>\n",
       "    </tr>\n",
       "  </tbody>\n",
       "</table>\n",
       "</div>"
      ],
      "text/plain": [
       "                          order_date    quantity  price_per_unit  total_amount\n",
       "count                           9500  9500.00000     9500.000000   9500.000000\n",
       "mean   2023-01-01 04:25:52.168421120    10.44400      755.657661   7874.737069\n",
       "min              2022-01-01 00:00:00     1.00000       10.040000     14.250000\n",
       "25%              2022-06-29 00:00:00     5.00000      382.037500   2333.505000\n",
       "50%              2022-12-30 00:00:00    10.00000      751.050000   5909.180000\n",
       "75%              2023-07-05 00:00:00    15.00000     1129.422500  11812.497500\n",
       "max              2023-12-31 00:00:00    20.00000     1499.950000  29992.000000\n",
       "std                              NaN     5.81518      432.039925   6786.743313"
      ]
     },
     "execution_count": 26,
     "metadata": {},
     "output_type": "execute_result"
    }
   ],
   "source": [
    "df_filtered.describe()"
   ]
  },
  {
   "cell_type": "code",
   "execution_count": 28,
   "metadata": {},
   "outputs": [
    {
     "data": {
      "text/plain": [
       "order_id            9500\n",
       "customer_id          200\n",
       "order_date           730\n",
       "product_id           130\n",
       "product_category       6\n",
       "quantity              20\n",
       "price_per_unit      9210\n",
       "total_amount        9440\n",
       "dtype: int64"
      ]
     },
     "execution_count": 28,
     "metadata": {},
     "output_type": "execute_result"
    }
   ],
   "source": [
    "df_filtered.nunique()"
   ]
  },
  {
   "cell_type": "code",
   "execution_count": 29,
   "metadata": {},
   "outputs": [
    {
     "data": {
      "text/plain": [
       "200"
      ]
     },
     "execution_count": 29,
     "metadata": {},
     "output_type": "execute_result"
    }
   ],
   "source": [
    "df[\"customer_id\"].nunique()"
   ]
  },
  {
   "cell_type": "code",
   "execution_count": 30,
   "metadata": {},
   "outputs": [
    {
     "name": "stdout",
     "output_type": "stream",
     "text": [
      "['C0118' 'C0086' 'C0088' 'C0132' 'C0157' 'C0193' 'C0195' 'C0018' 'C0197'\n",
      " 'C0038' 'C0058' 'C0096' 'C0028' 'C0021' 'C0014' 'C0078' 'C0171' 'C0111'\n",
      " 'C0034' 'C0037' 'C0036' 'C0155' 'C0190' 'C0170' 'C0152' 'C0189' 'C0093'\n",
      " 'C0025' 'C0089' 'C0159' 'C0115' 'C0106' 'C0150' 'C0110' 'C0164' 'C0135'\n",
      " 'C0059' 'C0044' 'C0074' 'C0161' 'C0144' 'C0109' 'C0041' 'C0148' 'C0022'\n",
      " 'C0185' 'C0175' 'C0162' 'C0002' 'C0139' 'C0107' 'C0192' 'C0102' 'C0016'\n",
      " 'C0064' 'C0200' 'C0137' 'C0024' 'C0067' 'C0080' 'C0095' 'C0133' 'C0042'\n",
      " 'C0100' 'C0013' 'C0092' 'C0070' 'C0180' 'C0033' 'C0117' 'C0191' 'C0008'\n",
      " 'C0186' 'C0160' 'C0158' 'C0063' 'C0172' 'C0005' 'C0009' 'C0154' 'C0043'\n",
      " 'C0130' 'C0032' 'C0119' 'C0004' 'C0010' 'C0099' 'C0129' 'C0001' 'C0026'\n",
      " 'C0098' 'C0060' 'C0090' 'C0181' 'C0173' 'C0003' 'C0147' 'C0165' 'C0006'\n",
      " 'C0167' 'C0082' 'C0163' 'C0153' 'C0020' 'C0085' 'C0140' 'C0055' 'C0071'\n",
      " 'C0199' 'C0050' 'C0142' 'C0187' 'C0143' 'C0125' 'C0101' 'C0136' 'C0114'\n",
      " 'C0166' 'C0061' 'C0068' 'C0104' 'C0128' 'C0178' 'C0045' 'C0039' 'C0017'\n",
      " 'C0194' 'C0051' 'C0087' 'C0075' 'C0083' 'C0048' 'C0094' 'C0062' 'C0066'\n",
      " 'C0065' 'C0053' 'C0011' 'C0146' 'C0113' 'C0027' 'C0196' 'C0121' 'C0079'\n",
      " 'C0081' 'C0007' 'C0177' 'C0023' 'C0072' 'C0031' 'C0131' 'C0049' 'C0156'\n",
      " 'C0184' 'C0188' 'C0123' 'C0138' 'C0124' 'C0019' 'C0134' 'C0116' 'C0112'\n",
      " 'C0015' 'C0073' 'C0176' 'C0198' 'C0120' 'C0030' 'C0046' 'C0127' 'C0057'\n",
      " 'C0182' 'C0149' 'C0029' 'C0168' 'C0108' 'C0174' 'C0105' 'C0097' 'C0103'\n",
      " 'C0122' 'C0141' 'C0076' 'C0151' 'C0056' 'C0179' 'C0069' 'C0047' 'C0035'\n",
      " 'C0054' 'C0040' 'C0183' 'C0169' 'C0126' 'C0091' 'C0077' 'C0084' 'C0012'\n",
      " 'C0052' 'C0145']\n"
     ]
    }
   ],
   "source": [
    "print(df[\"customer_id\"].unique())"
   ]
  },
  {
   "cell_type": "code",
   "execution_count": 32,
   "metadata": {},
   "outputs": [
    {
     "data": {
      "text/plain": [
       "np.int64(0)"
      ]
     },
     "execution_count": 32,
     "metadata": {},
     "output_type": "execute_result"
    }
   ],
   "source": [
    "#check for duplicate rows - \n",
    "df_filtered.duplicated().sum()"
   ]
  },
  {
   "cell_type": "code",
   "execution_count": 34,
   "metadata": {},
   "outputs": [
    {
     "name": "stdout",
     "output_type": "stream",
     "text": [
      "<class 'pandas.core.frame.DataFrame'>\n",
      "Index: 9500 entries, 0 to 9999\n",
      "Data columns (total 8 columns):\n",
      " #   Column            Non-Null Count  Dtype         \n",
      "---  ------            --------------  -----         \n",
      " 0   order_id          9500 non-null   object        \n",
      " 1   customer_id       9500 non-null   object        \n",
      " 2   order_date        9500 non-null   datetime64[ns]\n",
      " 3   product_id        9500 non-null   object        \n",
      " 4   product_category  9500 non-null   object        \n",
      " 5   quantity          9500 non-null   float64       \n",
      " 6   price_per_unit    9500 non-null   float64       \n",
      " 7   total_amount      9500 non-null   float64       \n",
      "dtypes: datetime64[ns](1), float64(3), object(4)\n",
      "memory usage: 668.0+ KB\n"
     ]
    }
   ],
   "source": [
    "df_filtered.info()"
   ]
  },
  {
   "cell_type": "code",
   "execution_count": 35,
   "metadata": {},
   "outputs": [
    {
     "name": "stdout",
     "output_type": "stream",
     "text": [
      "47.5\n"
     ]
    }
   ],
   "source": [
    "unique_order = df_filtered[\"order_id\"].nunique()\n",
    "unique_customer = df_filtered[\"customer_id\"].nunique()\n",
    "\n",
    "avg_orders = unique_order/unique_customer\n",
    "print(avg_orders)"
   ]
  },
  {
   "cell_type": "code",
   "execution_count": 36,
   "metadata": {},
   "outputs": [
    {
     "data": {
      "application/vnd.microsoft.datawrangler.viewer.v0+json": {
       "columns": [
        {
         "name": "index",
         "rawType": "int64",
         "type": "integer"
        },
        {
         "name": "customer_id",
         "rawType": "object",
         "type": "string"
        },
        {
         "name": "order_count",
         "rawType": "int64",
         "type": "integer"
        }
       ],
       "conversionMethod": "pd.DataFrame",
       "ref": "f96a7d80-e907-4f5e-9080-0860d1d544f2",
       "rows": [
        [
         "0",
         "C0060",
         "65"
        ],
        [
         "1",
         "C0101",
         "65"
        ],
        [
         "2",
         "C0185",
         "65"
        ],
        [
         "3",
         "C0071",
         "62"
        ],
        [
         "4",
         "C0129",
         "61"
        ]
       ],
       "shape": {
        "columns": 2,
        "rows": 5
       }
      },
      "text/html": [
       "<div>\n",
       "<style scoped>\n",
       "    .dataframe tbody tr th:only-of-type {\n",
       "        vertical-align: middle;\n",
       "    }\n",
       "\n",
       "    .dataframe tbody tr th {\n",
       "        vertical-align: top;\n",
       "    }\n",
       "\n",
       "    .dataframe thead th {\n",
       "        text-align: right;\n",
       "    }\n",
       "</style>\n",
       "<table border=\"1\" class=\"dataframe\">\n",
       "  <thead>\n",
       "    <tr style=\"text-align: right;\">\n",
       "      <th></th>\n",
       "      <th>customer_id</th>\n",
       "      <th>order_count</th>\n",
       "    </tr>\n",
       "  </thead>\n",
       "  <tbody>\n",
       "    <tr>\n",
       "      <th>0</th>\n",
       "      <td>C0060</td>\n",
       "      <td>65</td>\n",
       "    </tr>\n",
       "    <tr>\n",
       "      <th>1</th>\n",
       "      <td>C0101</td>\n",
       "      <td>65</td>\n",
       "    </tr>\n",
       "    <tr>\n",
       "      <th>2</th>\n",
       "      <td>C0185</td>\n",
       "      <td>65</td>\n",
       "    </tr>\n",
       "    <tr>\n",
       "      <th>3</th>\n",
       "      <td>C0071</td>\n",
       "      <td>62</td>\n",
       "    </tr>\n",
       "    <tr>\n",
       "      <th>4</th>\n",
       "      <td>C0129</td>\n",
       "      <td>61</td>\n",
       "    </tr>\n",
       "  </tbody>\n",
       "</table>\n",
       "</div>"
      ],
      "text/plain": [
       "  customer_id  order_count\n",
       "0       C0060           65\n",
       "1       C0101           65\n",
       "2       C0185           65\n",
       "3       C0071           62\n",
       "4       C0129           61"
      ]
     },
     "execution_count": 36,
     "metadata": {},
     "output_type": "execute_result"
    }
   ],
   "source": [
    "top_customer = df_filtered.groupby(\"customer_id\")[\"order_id\"].nunique().sort_values(ascending = False).reset_index(name = \"order_count\")\n",
    "\n",
    "top_customer.head()"
   ]
  },
  {
   "cell_type": "code",
   "execution_count": 38,
   "metadata": {},
   "outputs": [
    {
     "name": "stdout",
     "output_type": "stream",
     "text": [
      "<class 'pandas.core.frame.DataFrame'>\n",
      "Index: 9500 entries, 0 to 9999\n",
      "Data columns (total 8 columns):\n",
      " #   Column            Non-Null Count  Dtype         \n",
      "---  ------            --------------  -----         \n",
      " 0   order_id          9500 non-null   object        \n",
      " 1   customer_id       9500 non-null   object        \n",
      " 2   order_date        9500 non-null   datetime64[ns]\n",
      " 3   product_id        9500 non-null   object        \n",
      " 4   product_category  9500 non-null   object        \n",
      " 5   quantity          9500 non-null   float64       \n",
      " 6   price_per_unit    9500 non-null   float64       \n",
      " 7   total_amount      9500 non-null   float64       \n",
      "dtypes: datetime64[ns](1), float64(3), object(4)\n",
      "memory usage: 668.0+ KB\n"
     ]
    }
   ],
   "source": [
    "df_filtered.info()"
   ]
  },
  {
   "cell_type": "code",
   "execution_count": 41,
   "metadata": {},
   "outputs": [
    {
     "data": {
      "application/vnd.microsoft.datawrangler.viewer.v0+json": {
       "columns": [
        {
         "name": "index",
         "rawType": "int64",
         "type": "integer"
        },
        {
         "name": "order_date",
         "rawType": "int32",
         "type": "integer"
        },
        {
         "name": "ordercount",
         "rawType": "int64",
         "type": "integer"
        }
       ],
       "conversionMethod": "pd.DataFrame",
       "ref": "1aa63b84-2bea-4a27-a813-6219d5805dd1",
       "rows": [
        [
         "0",
         "1",
         "805"
        ],
        [
         "1",
         "2",
         "674"
        ],
        [
         "2",
         "3",
         "812"
        ],
        [
         "3",
         "4",
         "758"
        ],
        [
         "4",
         "5",
         "821"
        ],
        [
         "5",
         "6",
         "815"
        ],
        [
         "6",
         "7",
         "831"
        ],
        [
         "7",
         "8",
         "751"
        ],
        [
         "8",
         "9",
         "829"
        ],
        [
         "9",
         "10",
         "808"
        ],
        [
         "10",
         "11",
         "764"
        ],
        [
         "11",
         "12",
         "832"
        ]
       ],
       "shape": {
        "columns": 2,
        "rows": 12
       }
      },
      "text/html": [
       "<div>\n",
       "<style scoped>\n",
       "    .dataframe tbody tr th:only-of-type {\n",
       "        vertical-align: middle;\n",
       "    }\n",
       "\n",
       "    .dataframe tbody tr th {\n",
       "        vertical-align: top;\n",
       "    }\n",
       "\n",
       "    .dataframe thead th {\n",
       "        text-align: right;\n",
       "    }\n",
       "</style>\n",
       "<table border=\"1\" class=\"dataframe\">\n",
       "  <thead>\n",
       "    <tr style=\"text-align: right;\">\n",
       "      <th></th>\n",
       "      <th>order_date</th>\n",
       "      <th>ordercount</th>\n",
       "    </tr>\n",
       "  </thead>\n",
       "  <tbody>\n",
       "    <tr>\n",
       "      <th>0</th>\n",
       "      <td>1</td>\n",
       "      <td>805</td>\n",
       "    </tr>\n",
       "    <tr>\n",
       "      <th>1</th>\n",
       "      <td>2</td>\n",
       "      <td>674</td>\n",
       "    </tr>\n",
       "    <tr>\n",
       "      <th>2</th>\n",
       "      <td>3</td>\n",
       "      <td>812</td>\n",
       "    </tr>\n",
       "    <tr>\n",
       "      <th>3</th>\n",
       "      <td>4</td>\n",
       "      <td>758</td>\n",
       "    </tr>\n",
       "    <tr>\n",
       "      <th>4</th>\n",
       "      <td>5</td>\n",
       "      <td>821</td>\n",
       "    </tr>\n",
       "    <tr>\n",
       "      <th>5</th>\n",
       "      <td>6</td>\n",
       "      <td>815</td>\n",
       "    </tr>\n",
       "    <tr>\n",
       "      <th>6</th>\n",
       "      <td>7</td>\n",
       "      <td>831</td>\n",
       "    </tr>\n",
       "    <tr>\n",
       "      <th>7</th>\n",
       "      <td>8</td>\n",
       "      <td>751</td>\n",
       "    </tr>\n",
       "    <tr>\n",
       "      <th>8</th>\n",
       "      <td>9</td>\n",
       "      <td>829</td>\n",
       "    </tr>\n",
       "    <tr>\n",
       "      <th>9</th>\n",
       "      <td>10</td>\n",
       "      <td>808</td>\n",
       "    </tr>\n",
       "    <tr>\n",
       "      <th>10</th>\n",
       "      <td>11</td>\n",
       "      <td>764</td>\n",
       "    </tr>\n",
       "    <tr>\n",
       "      <th>11</th>\n",
       "      <td>12</td>\n",
       "      <td>832</td>\n",
       "    </tr>\n",
       "  </tbody>\n",
       "</table>\n",
       "</div>"
      ],
      "text/plain": [
       "    order_date  ordercount\n",
       "0            1         805\n",
       "1            2         674\n",
       "2            3         812\n",
       "3            4         758\n",
       "4            5         821\n",
       "5            6         815\n",
       "6            7         831\n",
       "7            8         751\n",
       "8            9         829\n",
       "9           10         808\n",
       "10          11         764\n",
       "11          12         832"
      ]
     },
     "execution_count": 41,
     "metadata": {},
     "output_type": "execute_result"
    }
   ],
   "source": [
    "monthly_order = df_filtered.groupby(df_filtered[\"order_date\"].dt.month)[\"order_id\"].nunique().reset_index(name = \"ordercount\")\n",
    "monthly_order"
   ]
  },
  {
   "cell_type": "code",
   "execution_count": 42,
   "metadata": {},
   "outputs": [
    {
     "data": {
      "text/plain": [
       "order_date\n",
       "2022    4765\n",
       "2023    4735\n",
       "Name: order_id, dtype: int64"
      ]
     },
     "execution_count": 42,
     "metadata": {},
     "output_type": "execute_result"
    }
   ],
   "source": [
    "yearly_order = df_filtered.groupby(df_filtered[\"order_date\"].dt.year)[\"order_id\"].nunique()\n",
    "yearly_order"
   ]
  },
  {
   "cell_type": "code",
   "execution_count": 43,
   "metadata": {},
   "outputs": [],
   "source": [
    "#plotting\n",
    "from matplotlib import pyplot as plt"
   ]
  },
  {
   "cell_type": "code",
   "execution_count": 48,
   "metadata": {},
   "outputs": [
    {
     "data": {
      "text/plain": [
       "Text(0.5, 1.0, 'Monthly order count')"
      ]
     },
     "execution_count": 48,
     "metadata": {},
     "output_type": "execute_result"
    },
    {
     "data": {
      "image/png": "[encoded data removed]",
      "text/plain": [
       "<Figure size 1000x500 with 1 Axes>"
      ]
     },
     "metadata": {},
     "output_type": "display_data"
    }
   ],
   "source": [
    "monthly_order.plot(x = \"order_date\", y = \"ordercount\", kind = \"line\", figsize = (10,5))\n",
    "plt.title(\"Monthly order count\")"
   ]
  },
  {
   "cell_type": "code",
   "execution_count": 49,
   "metadata": {},
   "outputs": [
    {
     "name": "stdout",
     "output_type": "stream",
     "text": [
      "<class 'pandas.core.frame.DataFrame'>\n",
      "Index: 9500 entries, 0 to 9999\n",
      "Data columns (total 8 columns):\n",
      " #   Column            Non-Null Count  Dtype         \n",
      "---  ------            --------------  -----         \n",
      " 0   order_id          9500 non-null   object        \n",
      " 1   customer_id       9500 non-null   object        \n",
      " 2   order_date        9500 non-null   datetime64[ns]\n",
      " 3   product_id        9500 non-null   object        \n",
      " 4   product_category  9500 non-null   object        \n",
      " 5   quantity          9500 non-null   float64       \n",
      " 6   price_per_unit    9500 non-null   float64       \n",
      " 7   total_amount      9500 non-null   float64       \n",
      "dtypes: datetime64[ns](1), float64(3), object(4)\n",
      "memory usage: 668.0+ KB\n"
     ]
    }
   ],
   "source": [
    "df_filtered.info()"
   ]
  },
  {
   "cell_type": "code",
   "execution_count": 52,
   "metadata": {},
   "outputs": [
    {
     "data": {
      "text/plain": [
       "order_id                O00001\n",
       "customer_id              C0118\n",
       "order_date          2022-02-27\n",
       "product_id                P112\n",
       "product_category       Fashion\n",
       "quantity                  19.0\n",
       "price_per_unit          138.52\n",
       "total_amount           2631.88\n",
       "Name: 0, dtype: object"
      ]
     },
     "execution_count": 52,
     "metadata": {},
     "output_type": "execute_result"
    }
   ],
   "source": [
    "df.iloc[0]"
   ]
  },
  {
   "cell_type": "code",
   "execution_count": 53,
   "metadata": {},
   "outputs": [
    {
     "data": {
      "application/vnd.microsoft.datawrangler.viewer.v0+json": {
       "columns": [
        {
         "name": "index",
         "rawType": "int64",
         "type": "integer"
        },
        {
         "name": "product_category",
         "rawType": "object",
         "type": "string"
        },
        {
         "name": "order_count",
         "rawType": "int64",
         "type": "integer"
        }
       ],
       "conversionMethod": "pd.DataFrame",
       "ref": "fcaf300a-154e-450d-bd8f-92e4386d53f2",
       "rows": [
        [
         "0",
         "Home",
         "1608"
        ],
        [
         "1",
         "Books",
         "1601"
        ],
        [
         "2",
         "Fashion",
         "1583"
        ],
        [
         "3",
         "Groceries",
         "1581"
        ],
        [
         "4",
         "Toys",
         "1577"
        ],
        [
         "5",
         "Electronics",
         "1550"
        ]
       ],
       "shape": {
        "columns": 2,
        "rows": 6
       }
      },
      "text/html": [
       "<div>\n",
       "<style scoped>\n",
       "    .dataframe tbody tr th:only-of-type {\n",
       "        vertical-align: middle;\n",
       "    }\n",
       "\n",
       "    .dataframe tbody tr th {\n",
       "        vertical-align: top;\n",
       "    }\n",
       "\n",
       "    .dataframe thead th {\n",
       "        text-align: right;\n",
       "    }\n",
       "</style>\n",
       "<table border=\"1\" class=\"dataframe\">\n",
       "  <thead>\n",
       "    <tr style=\"text-align: right;\">\n",
       "      <th></th>\n",
       "      <th>product_category</th>\n",
       "      <th>order_count</th>\n",
       "    </tr>\n",
       "  </thead>\n",
       "  <tbody>\n",
       "    <tr>\n",
       "      <th>0</th>\n",
       "      <td>Home</td>\n",
       "      <td>1608</td>\n",
       "    </tr>\n",
       "    <tr>\n",
       "      <th>1</th>\n",
       "      <td>Books</td>\n",
       "      <td>1601</td>\n",
       "    </tr>\n",
       "    <tr>\n",
       "      <th>2</th>\n",
       "      <td>Fashion</td>\n",
       "      <td>1583</td>\n",
       "    </tr>\n",
       "    <tr>\n",
       "      <th>3</th>\n",
       "      <td>Groceries</td>\n",
       "      <td>1581</td>\n",
       "    </tr>\n",
       "    <tr>\n",
       "      <th>4</th>\n",
       "      <td>Toys</td>\n",
       "      <td>1577</td>\n",
       "    </tr>\n",
       "    <tr>\n",
       "      <th>5</th>\n",
       "      <td>Electronics</td>\n",
       "      <td>1550</td>\n",
       "    </tr>\n",
       "  </tbody>\n",
       "</table>\n",
       "</div>"
      ],
      "text/plain": [
       "  product_category  order_count\n",
       "0             Home         1608\n",
       "1            Books         1601\n",
       "2          Fashion         1583\n",
       "3        Groceries         1581\n",
       "4             Toys         1577\n",
       "5      Electronics         1550"
      ]
     },
     "execution_count": 53,
     "metadata": {},
     "output_type": "execute_result"
    }
   ],
   "source": [
    "#most sold category - \n",
    "category = df_filtered.groupby(\"product_category\")[\"order_id\"].nunique().sort_values(ascending = False).reset_index(name = \"order_count\")\n",
    "category"
   ]
  },
  {
   "cell_type": "code",
   "execution_count": 56,
   "metadata": {},
   "outputs": [
    {
     "data": {
      "text/plain": [
       "Text(0.5, 1.0, 'Most sold category')"
      ]
     },
     "execution_count": 56,
     "metadata": {},
     "output_type": "execute_result"
    },
    {
     "data": {
      "image/png": "[encoded data removed]",
      "text/plain": [
       "<Figure size 800x400 with 1 Axes>"
      ]
     },
     "metadata": {},
     "output_type": "display_data"
    }
   ],
   "source": [
    "category.plot(kind = \"bar\", figsize = (8,4), label = \"product_category\", x = \"product_category\", y = \"order_count\") \n",
    "plt.title(\"Most sold category\")"
   ]
  },
  {
   "cell_type": "code",
   "execution_count": null,
   "metadata": {},
   "outputs": [],
   "source": [
    "#monthwise and yearwise sales plot - \n",
    "monthwise_sales = df_filtered.groupby(df_filtered[\"order_date\"].dt.month.rename(\"month\"))[\"total_amount\"].sum().reset_index(name = \"total_amount\")"
   ]
  },
  {
   "cell_type": "code",
   "execution_count": 62,
   "metadata": {},
   "outputs": [
    {
     "data": {
      "application/vnd.microsoft.datawrangler.viewer.v0+json": {
       "columns": [
        {
         "name": "index",
         "rawType": "int64",
         "type": "integer"
        },
        {
         "name": "order_date",
         "rawType": "int32",
         "type": "integer"
        },
        {
         "name": "total_amount",
         "rawType": "float64",
         "type": "float"
        }
       ],
       "conversionMethod": "pd.DataFrame",
       "ref": "970d67d7-b18d-4707-a968-b5717ed4d475",
       "rows": [
        [
         "0",
         "1",
         "6335484.42"
        ],
        [
         "1",
         "2",
         "5344863.35"
        ],
        [
         "2",
         "3",
         "6353839.27"
        ],
        [
         "3",
         "4",
         "5998273.26"
        ],
        [
         "4",
         "5",
         "6634062.93"
        ]
       ],
       "shape": {
        "columns": 2,
        "rows": 5
       }
      },
      "text/html": [
       "<div>\n",
       "<style scoped>\n",
       "    .dataframe tbody tr th:only-of-type {\n",
       "        vertical-align: middle;\n",
       "    }\n",
       "\n",
       "    .dataframe tbody tr th {\n",
       "        vertical-align: top;\n",
       "    }\n",
       "\n",
       "    .dataframe thead th {\n",
       "        text-align: right;\n",
       "    }\n",
       "</style>\n",
       "<table border=\"1\" class=\"dataframe\">\n",
       "  <thead>\n",
       "    <tr style=\"text-align: right;\">\n",
       "      <th></th>\n",
       "      <th>order_date</th>\n",
       "      <th>total_amount</th>\n",
       "    </tr>\n",
       "  </thead>\n",
       "  <tbody>\n",
       "    <tr>\n",
       "      <th>0</th>\n",
       "      <td>1</td>\n",
       "      <td>6335484.42</td>\n",
       "    </tr>\n",
       "    <tr>\n",
       "      <th>1</th>\n",
       "      <td>2</td>\n",
       "      <td>5344863.35</td>\n",
       "    </tr>\n",
       "    <tr>\n",
       "      <th>2</th>\n",
       "      <td>3</td>\n",
       "      <td>6353839.27</td>\n",
       "    </tr>\n",
       "    <tr>\n",
       "      <th>3</th>\n",
       "      <td>4</td>\n",
       "      <td>5998273.26</td>\n",
       "    </tr>\n",
       "    <tr>\n",
       "      <th>4</th>\n",
       "      <td>5</td>\n",
       "      <td>6634062.93</td>\n",
       "    </tr>\n",
       "  </tbody>\n",
       "</table>\n",
       "</div>"
      ],
      "text/plain": [
       "   order_date  total_amount\n",
       "0           1    6335484.42\n",
       "1           2    5344863.35\n",
       "2           3    6353839.27\n",
       "3           4    5998273.26\n",
       "4           5    6634062.93"
      ]
     },
     "execution_count": 62,
     "metadata": {},
     "output_type": "execute_result"
    }
   ],
   "source": [
    "monthwise_sales.head()"
   ]
  },
  {
   "cell_type": "code",
   "execution_count": 61,
   "metadata": {},
   "outputs": [
    {
     "data": {
      "text/plain": [
       "<Axes: xlabel='order_date'>"
      ]
     },
     "execution_count": 61,
     "metadata": {},
     "output_type": "execute_result"
    },
    {
     "data": {
      "image/png": "[encoded data removed]",
      "text/plain": [
       "<Figure size 1000x500 with 1 Axes>"
      ]
     },
     "metadata": {},
     "output_type": "display_data"
    }
   ],
   "source": [
    "monthwise_sales.plot(x = \"order_date\", y = \"total_amount\", kind = \"line\", figsize = (10,5))"
   ]
  },
  {
   "cell_type": "code",
   "execution_count": null,
   "metadata": {},
   "outputs": [],
   "source": []
  }
 ],
 "metadata": {
  "kernelspec": {
   "display_name": "myvenv",
   "language": "python",
   "name": "python3"
  },
  "language_info": {
   "codemirror_mode": {
    "name": "ipython",
    "version": 3
   },
   "file_extension": ".py",
   "mimetype": "text/x-python",
   "name": "python",
   "nbconvert_exporter": "python",
   "pygments_lexer": "ipython3",
   "version": "3.12.5"
  }
 },
 "nbformat": 4,
 "nbformat_minor": 2
}
